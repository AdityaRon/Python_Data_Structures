{
 "cells": [
  {
   "cell_type": "code",
   "execution_count": 20,
   "metadata": {
    "collapsed": false
   },
   "outputs": [],
   "source": [
    "def permute (s):\n",
    "    out = []\n",
    "    \n",
    "    if len(s) == 1:\n",
    "        out = [s]\n",
    "    else:\n",
    "        \n",
    "        for i, let in enumerate(s):\n",
    "                #print(i,let)\n",
    "                for perm in permute( s[:i] + s[i+1:]):\n",
    "                    out += [let+perm]\n",
    "                    #print(out)\n",
    "    return out"
   ]
  },
  {
   "cell_type": "code",
   "execution_count": 21,
   "metadata": {
    "collapsed": false
   },
   "outputs": [
    {
     "name": "stdout",
     "output_type": "stream",
     "text": [
      "d\n",
      "c\n",
      "c\n",
      "d\n",
      "cd\n",
      "b\n",
      "dc\n",
      "b\n",
      "d\n",
      "b\n",
      "b\n",
      "d\n",
      "bd\n",
      "c\n",
      "db\n",
      "c\n",
      "c\n",
      "b\n",
      "b\n",
      "c\n",
      "bc\n",
      "d\n",
      "cb\n",
      "d\n",
      "bcd\n",
      "a\n",
      "bdc\n",
      "a\n",
      "cbd\n",
      "a\n",
      "cdb\n",
      "a\n",
      "dbc\n",
      "a\n",
      "dcb\n",
      "a\n",
      "d\n",
      "c\n",
      "c\n",
      "d\n",
      "cd\n",
      "a\n",
      "dc\n",
      "a\n",
      "d\n",
      "a\n",
      "a\n",
      "d\n",
      "ad\n",
      "c\n",
      "da\n",
      "c\n",
      "c\n",
      "a\n",
      "a\n",
      "c\n",
      "ac\n",
      "d\n",
      "ca\n",
      "d\n",
      "acd\n",
      "b\n",
      "adc\n",
      "b\n",
      "cad\n",
      "b\n",
      "cda\n",
      "b\n",
      "dac\n",
      "b\n",
      "dca\n",
      "b\n",
      "d\n",
      "b\n",
      "b\n",
      "d\n",
      "bd\n",
      "a\n",
      "db\n",
      "a\n",
      "d\n",
      "a\n",
      "a\n",
      "d\n",
      "ad\n",
      "b\n",
      "da\n",
      "b\n",
      "b\n",
      "a\n",
      "a\n",
      "b\n",
      "ab\n",
      "d\n",
      "ba\n",
      "d\n",
      "abd\n",
      "c\n",
      "adb\n",
      "c\n",
      "bad\n",
      "c\n",
      "bda\n",
      "c\n",
      "dab\n",
      "c\n",
      "dba\n",
      "c\n",
      "c\n",
      "b\n",
      "b\n",
      "c\n",
      "bc\n",
      "a\n",
      "cb\n",
      "a\n",
      "c\n",
      "a\n",
      "a\n",
      "c\n",
      "ac\n",
      "b\n",
      "ca\n",
      "b\n",
      "b\n",
      "a\n",
      "a\n",
      "b\n",
      "ab\n",
      "c\n",
      "ba\n",
      "c\n",
      "abc\n",
      "d\n",
      "acb\n",
      "d\n",
      "bac\n",
      "d\n",
      "bca\n",
      "d\n",
      "cab\n",
      "d\n",
      "cba\n",
      "d\n"
     ]
    },
    {
     "data": {
      "text/plain": [
       "['abcd',\n",
       " 'abdc',\n",
       " 'acbd',\n",
       " 'acdb',\n",
       " 'adbc',\n",
       " 'adcb',\n",
       " 'bacd',\n",
       " 'badc',\n",
       " 'bcad',\n",
       " 'bcda',\n",
       " 'bdac',\n",
       " 'bdca',\n",
       " 'cabd',\n",
       " 'cadb',\n",
       " 'cbad',\n",
       " 'cbda',\n",
       " 'cdab',\n",
       " 'cdba',\n",
       " 'dabc',\n",
       " 'dacb',\n",
       " 'dbac',\n",
       " 'dbca',\n",
       " 'dcab',\n",
       " 'dcba']"
      ]
     },
     "execution_count": 21,
     "metadata": {},
     "output_type": "execute_result"
    }
   ],
   "source": [
    "permute('abcd')"
   ]
  },
  {
   "cell_type": "code",
   "execution_count": 7,
   "metadata": {
    "collapsed": true
   },
   "outputs": [],
   "source": [
    "s='abcd'"
   ]
  },
  {
   "cell_type": "code",
   "execution_count": 8,
   "metadata": {
    "collapsed": false
   },
   "outputs": [
    {
     "data": {
      "text/plain": [
       "''"
      ]
     },
     "execution_count": 8,
     "metadata": {},
     "output_type": "execute_result"
    }
   ],
   "source": [
    "s[:0]"
   ]
  },
  {
   "cell_type": "code",
   "execution_count": 9,
   "metadata": {
    "collapsed": false
   },
   "outputs": [
    {
     "data": {
      "text/plain": [
       "'bcd'"
      ]
     },
     "execution_count": 9,
     "metadata": {},
     "output_type": "execute_result"
    }
   ],
   "source": [
    "s[1:]"
   ]
  },
  {
   "cell_type": "code",
   "execution_count": null,
   "metadata": {
    "collapsed": true
   },
   "outputs": [],
   "source": []
  }
 ],
 "metadata": {
  "kernelspec": {
   "display_name": "Python 3",
   "language": "python",
   "name": "python3"
  },
  "language_info": {
   "codemirror_mode": {
    "name": "ipython",
    "version": 3
   },
   "file_extension": ".py",
   "mimetype": "text/x-python",
   "name": "python",
   "nbconvert_exporter": "python",
   "pygments_lexer": "ipython3",
   "version": "3.6.0"
  }
 },
 "nbformat": 4,
 "nbformat_minor": 2
}
